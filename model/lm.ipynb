{
 "cells": [
  {
   "cell_type": "code",
   "execution_count": 2,
   "metadata": {},
   "outputs": [],
   "source": [
    "from fastai.text import *"
   ]
  },
  {
   "cell_type": "markdown",
   "metadata": {
    "heading_collapsed": true
   },
   "source": [
    "## language model"
   ]
  },
  {
   "cell_type": "code",
   "execution_count": 4,
   "metadata": {
    "hidden": true
   },
   "outputs": [],
   "source": [
    "data_lm = (TextList.from_folder('data/txt/train')\n",
    "               .no_split()\n",
    "               .label_for_lm()\n",
    "               .databunch())"
   ]
  },
  {
   "cell_type": "code",
   "execution_count": 5,
   "metadata": {
    "hidden": true
   },
   "outputs": [],
   "source": [
    "learn = language_model_learner(data_lm, AWD_LSTM)"
   ]
  },
  {
   "cell_type": "code",
   "execution_count": 7,
   "metadata": {
    "hidden": true
   },
   "outputs": [
    {
     "data": {
      "text/plain": [
       "'this bird has also made it one of the most well - rounded And Their Covers of the Way : The Way of the Two'"
      ]
     },
     "execution_count": 7,
     "metadata": {},
     "output_type": "execute_result"
    }
   ],
   "source": [
    "learn.predict('this bird has', n_words=30, temperature=0.75)"
   ]
  },
  {
   "cell_type": "code",
   "execution_count": 8,
   "metadata": {
    "hidden": true
   },
   "outputs": [],
   "source": [
    "encoder = learn.model[0]"
   ]
  },
  {
   "cell_type": "code",
   "execution_count": 19,
   "metadata": {
    "hidden": true
   },
   "outputs": [
    {
     "data": {
      "text/html": [
       "\n",
       "    <div>\n",
       "        <style>\n",
       "            /* Turns off some styling */\n",
       "            progress {\n",
       "                /* gets rid of default border in Firefox and Opera. */\n",
       "                border: none;\n",
       "                /* Needs to be in here for Safari polyfill so background images work as expected. */\n",
       "                background-size: auto;\n",
       "            }\n",
       "            .progress-bar-interrupted, .progress-bar-interrupted::-webkit-progress-bar {\n",
       "                background: #F44336;\n",
       "            }\n",
       "        </style>\n",
       "      <progress value='0' class='progress-bar-interrupted' max='42', style='width:300px; height:20px; vertical-align: middle;'></progress>\n",
       "      Interrupted\n",
       "    </div>\n",
       "    "
      ],
      "text/plain": [
       "<IPython.core.display.HTML object>"
      ]
     },
     "metadata": {},
     "output_type": "display_data"
    },
    {
     "name": "stdout",
     "output_type": "stream",
     "text": [
      "torch.Size([64, 70])\n",
      "torch.Size([64, 70, 400])\n"
     ]
    }
   ],
   "source": [
    "encoder.eval()\n",
    "with torch.no_grad():\n",
    "    for xb,yb in progress_bar(learn.data.train_dl):\n",
    "        print(xb.shape)\n",
    "        print(encoder(xb)[0][-1].shape)\n",
    "        break"
   ]
  },
  {
   "cell_type": "code",
   "execution_count": 20,
   "metadata": {
    "hidden": true
   },
   "outputs": [],
   "source": [
    "learn.save_encoder('enc')"
   ]
  },
  {
   "cell_type": "code",
   "execution_count": 26,
   "metadata": {
    "hidden": true
   },
   "outputs": [],
   "source": [
    "encoder = MultiBatchEncoder(70, 20*70, learn.model[0])"
   ]
  },
  {
   "cell_type": "code",
   "execution_count": 47,
   "metadata": {
    "hidden": true
   },
   "outputs": [],
   "source": [
    "t=encoder(xb)"
   ]
  },
  {
   "cell_type": "code",
   "execution_count": 52,
   "metadata": {
    "hidden": true
   },
   "outputs": [
    {
     "data": {
      "text/plain": [
       "torch.Size([64, 400])"
      ]
     },
     "execution_count": 52,
     "metadata": {},
     "output_type": "execute_result"
    }
   ],
   "source": [
    "t[0][-1][:,-1].shape"
   ]
  },
  {
   "cell_type": "code",
   "execution_count": 37,
   "metadata": {
    "hidden": true
   },
   "outputs": [
    {
     "data": {
      "text/plain": [
       "1409"
      ]
     },
     "execution_count": 37,
     "metadata": {},
     "output_type": "execute_result"
    }
   ],
   "source": [
    "gc.collect()"
   ]
  },
  {
   "cell_type": "code",
   "execution_count": 38,
   "metadata": {
    "hidden": true
   },
   "outputs": [],
   "source": [
    "def test_cat(arrs):\n",
    "    return [torch.cat([l[si] for l in arrs], dim=1) for si in range_of(arrs[0])]"
   ]
  },
  {
   "cell_type": "code",
   "execution_count": 45,
   "metadata": {
    "hidden": true
   },
   "outputs": [
    {
     "data": {
      "text/plain": [
       "[torch.Size([5, 20]),\n",
       " torch.Size([5, 20]),\n",
       " torch.Size([5, 20]),\n",
       " torch.Size([5, 20])]"
      ]
     },
     "execution_count": 45,
     "metadata": {},
     "output_type": "execute_result"
    }
   ],
   "source": [
    "[l.shape for l in test_cat([torch.randn(4,5,10),torch.randn(4,5,10)])]"
   ]
  },
  {
   "cell_type": "code",
   "execution_count": 41,
   "metadata": {
    "hidden": true
   },
   "outputs": [
    {
     "data": {
      "text/plain": [
       "tensor([-1.4548, -0.7306,  1.0662,  0.4304, -0.3434])"
      ]
     },
     "execution_count": 41,
     "metadata": {},
     "output_type": "execute_result"
    }
   ],
   "source": [
    "torch.randn(4,5)[2]"
   ]
  },
  {
   "cell_type": "code",
   "execution_count": 46,
   "metadata": {
    "hidden": true
   },
   "outputs": [
    {
     "data": {
      "text/plain": [
       "torch.Size([3, 5])"
      ]
     },
     "execution_count": 46,
     "metadata": {},
     "output_type": "execute_result"
    }
   ],
   "source": [
    "torch.randn(3,4,5)[:,-1].shape"
   ]
  },
  {
   "cell_type": "code",
   "execution_count": null,
   "metadata": {
    "hidden": true
   },
   "outputs": [],
   "source": []
  },
  {
   "cell_type": "code",
   "execution_count": null,
   "metadata": {
    "hidden": true
   },
   "outputs": [],
   "source": []
  },
  {
   "cell_type": "markdown",
   "metadata": {},
   "source": [
    "## classifier"
   ]
  },
  {
   "cell_type": "code",
   "execution_count": 2,
   "metadata": {},
   "outputs": [],
   "source": [
    "def fn2class(fn):\n",
    "    fields = os.path.basename(fn).split('_')\n",
    "    return '_'.join(fields[:-3])"
   ]
  },
  {
   "cell_type": "code",
   "execution_count": 4,
   "metadata": {},
   "outputs": [],
   "source": [
    "data_clas = (TextList.from_folder('data/txt/train')\n",
    "               .split_by_rand_pct()\n",
    "               .label_from_func(fn2class)\n",
    "               .databunch())"
   ]
  },
  {
   "cell_type": "code",
   "execution_count": 5,
   "metadata": {},
   "outputs": [
    {
     "data": {
      "text/html": [
       "<table border=\"1\" class=\"dataframe\">\n",
       "  <thead>\n",
       "    <tr style=\"text-align: right;\">\n",
       "      <th>text</th>\n",
       "      <th>target</th>\n",
       "    </tr>\n",
       "  </thead>\n",
       "  <tbody>\n",
       "    <tr>\n",
       "      <td>xxbos this larger bird is duck - like and has a black and white body on which the black is mostly from the xxunk of the wings on back throughout xxunk rest of his body xxunk the breast , neck and throat are white with the exception of a brown xxunk patch and his bill is yellow and long . \\n</td>\n",
       "      <td>Laysan_Albatross</td>\n",
       "    </tr>\n",
       "    <tr>\n",
       "      <td>xxbos a well color xxunk small bird resting for a xxunk on a xxunk xxunk , a round grey beak leading back to a yellow xxunk that xxunk the eye surrounded by brownish grey ; the brownish grey gives way to yellow and then white down the bird 's back with a black tail and wing tips . \\n</td>\n",
       "      <td>Evening_Grosbeak</td>\n",
       "    </tr>\n",
       "    <tr>\n",
       "      <td>xxbos a bird with various hues of royal blue with a black and blue bill , black coloring on top of head , eye , and tips of a few tail feathers , reddish color on underside of tail , grayish black tarsus and feet that appears about 3 - xxunk xxunk long . \\n</td>\n",
       "      <td>Gray_Catbird</td>\n",
       "    </tr>\n",
       "    <tr>\n",
       "      <td>xxbos this bird is about xxunk xxunk from head to tail , the top of the head is black , the bottom of the head and neck are white , the wings are blueish and the belly is reddish - brown , the tail is black and blue with white stripes . \\n</td>\n",
       "      <td>Ringed_Kingfisher</td>\n",
       "    </tr>\n",
       "    <tr>\n",
       "      <td>xxbos this bird seems to be a medium size bird with very unique colors there is reddish brown , black , white , gray and gold / light brown color xxunk the xxunk of the bird this bird has a very small beak large eyes for its size and very long wings \\n</td>\n",
       "      <td>Cliff_Swallow</td>\n",
       "    </tr>\n",
       "  </tbody>\n",
       "</table>"
      ],
      "text/plain": [
       "<IPython.core.display.HTML object>"
      ]
     },
     "metadata": {},
     "output_type": "display_data"
    }
   ],
   "source": [
    "data_clas.show_batch()"
   ]
  },
  {
   "cell_type": "code",
   "execution_count": 6,
   "metadata": {},
   "outputs": [
    {
     "data": {
      "text/plain": [
       "(['American_Redstart',\n",
       "  'Blue_Headed_Vireo',\n",
       "  'Bobolink',\n",
       "  'Bronzed_Cowbird',\n",
       "  'Cactus_Wren',\n",
       "  'Cape_Glossy_Starling',\n",
       "  'Cardinal',\n",
       "  'Carolina_Wren',\n",
       "  'Caspian_Tern',\n",
       "  'Cerulean_Warbler',\n",
       "  'Cliff_Swallow',\n",
       "  'Eastern_Towhee',\n",
       "  'Elegant_Tern',\n",
       "  'Evening_Grosbeak',\n",
       "  'Fish_Crow',\n",
       "  'Florida_Jay',\n",
       "  'Gadwall',\n",
       "  'Gray_Catbird',\n",
       "  'Green_Kingfisher',\n",
       "  'Green_Tailed_Towhee',\n",
       "  'Hooded_Merganser',\n",
       "  'Ivory_Gull',\n",
       "  'Laysan_Albatross',\n",
       "  'Loggerhead_Shrike',\n",
       "  'Magnolia_Warbler',\n",
       "  'Mourning_Warbler',\n",
       "  'Northern_Fulmar',\n",
       "  'Orchard_Oriole',\n",
       "  'Prothonotary_Warbler',\n",
       "  'Ring_Billed_Gull',\n",
       "  'Ringed_Kingfisher',\n",
       "  'Ruby_Throated_Hummingbird',\n",
       "  'Scissor_Tailed_Flycatcher'],\n",
       " 33)"
      ]
     },
     "execution_count": 6,
     "metadata": {},
     "output_type": "execute_result"
    }
   ],
   "source": [
    "data_clas.train_ds.classes, data_clas.c"
   ]
  },
  {
   "cell_type": "code",
   "execution_count": 7,
   "metadata": {},
   "outputs": [
    {
     "data": {
      "text/plain": [
       "FlattenedLoss of CrossEntropyLoss()"
      ]
     },
     "execution_count": 7,
     "metadata": {},
     "output_type": "execute_result"
    }
   ],
   "source": [
    "data_clas.loss_func"
   ]
  },
  {
   "cell_type": "code",
   "execution_count": 11,
   "metadata": {},
   "outputs": [],
   "source": [
    "learn_c = text_classifier_learner(data_clas, AWD_LSTM, loss_func=LabelSmoothingCrossEntropy())"
   ]
  },
  {
   "cell_type": "code",
   "execution_count": 12,
   "metadata": {},
   "outputs": [
    {
     "data": {
      "text/html": [],
      "text/plain": [
       "<IPython.core.display.HTML object>"
      ]
     },
     "metadata": {},
     "output_type": "display_data"
    },
    {
     "name": "stdout",
     "output_type": "stream",
     "text": [
      "LR Finder is complete, type {learner_name}.recorder.plot() to see the graph.\n"
     ]
    },
    {
     "data": {
      "image/png": "[encoded data removed]",
      "text/plain": [
       "<Figure size 432x288 with 1 Axes>"
      ]
     },
     "metadata": {
      "needs_background": "light"
     },
     "output_type": "display_data"
    }
   ],
   "source": [
    "learn_c.lr_find()\n",
    "learn_c.recorder.plot()"
   ]
  },
  {
   "cell_type": "code",
   "execution_count": 13,
   "metadata": {},
   "outputs": [
    {
     "data": {
      "text/html": [
       "Total time: 09:40 <p><table style='width:375px; margin-bottom:10px'>\n",
       "  <tr>\n",
       "    <th>epoch</th>\n",
       "    <th>train_loss</th>\n",
       "    <th>valid_loss</th>\n",
       "    <th>accuracy</th>\n",
       "    <th>time</th>\n",
       "  </tr>\n",
       "  <tr>\n",
       "    <th>0</th>\n",
       "    <th>3.532287</th>\n",
       "    <th>3.555533</th>\n",
       "    <th>0.030691</th>\n",
       "    <th>01:57</th>\n",
       "  </tr>\n",
       "  <tr>\n",
       "    <th>1</th>\n",
       "    <th>3.584409</th>\n",
       "    <th>3.537302</th>\n",
       "    <th>0.031202</th>\n",
       "    <th>01:56</th>\n",
       "  </tr>\n",
       "  <tr>\n",
       "    <th>2</th>\n",
       "    <th>3.563182</th>\n",
       "    <th>3.577546</th>\n",
       "    <th>0.036317</th>\n",
       "    <th>01:55</th>\n",
       "  </tr>\n",
       "  <tr>\n",
       "    <th>3</th>\n",
       "    <th>3.526358</th>\n",
       "    <th>3.505183</th>\n",
       "    <th>0.025575</th>\n",
       "    <th>01:56</th>\n",
       "  </tr>\n",
       "  <tr>\n",
       "    <th>4</th>\n",
       "    <th>3.500615</th>\n",
       "    <th>3.503458</th>\n",
       "    <th>0.029668</th>\n",
       "    <th>01:55</th>\n",
       "  </tr>\n",
       "</table>\n"
      ],
      "text/plain": [
       "<IPython.core.display.HTML object>"
      ]
     },
     "metadata": {},
     "output_type": "display_data"
    }
   ],
   "source": [
    "learn_c.fit_one_cycle(5, 1e-1, moms=(0.8,0.7))"
   ]
  },
  {
   "cell_type": "code",
   "execution_count": 14,
   "metadata": {},
   "outputs": [],
   "source": [
    "encoder = learn_c.model[0].module"
   ]
  },
  {
   "cell_type": "code",
   "execution_count": 15,
   "metadata": {},
   "outputs": [],
   "source": [
    "_ = encoder.eval()"
   ]
  },
  {
   "cell_type": "code",
   "execution_count": 16,
   "metadata": {},
   "outputs": [],
   "source": [
    "fns = get_files('data/txt/train/', extensions=['.txt'])"
   ]
  },
  {
   "cell_type": "code",
   "execution_count": 17,
   "metadata": {},
   "outputs": [
    {
     "data": {
      "text/plain": [
       "(9776, WindowsPath('data/txt/train/American_Redstart_0002_103723_0.txt'))"
      ]
     },
     "execution_count": 17,
     "metadata": {},
     "output_type": "execute_result"
    }
   ],
   "source": [
    "len(fns), fns[0]"
   ]
  },
  {
   "cell_type": "code",
   "execution_count": 19,
   "metadata": {
    "scrolled": true
   },
   "outputs": [
    {
     "name": "stderr",
     "output_type": "stream",
     "text": [
      "c:\\users\\wangpei\\documents\\github\\fastai\\fastai\\torch_core.py:76: UserWarning: Tensor is int32: upgrading to int64; for better performance use int64 input\n",
      "  warn('Tensor is int32: upgrading to int64; for better performance use int64 input')\n"
     ]
    }
   ],
   "source": [
    "with open(fns[0], 'r') as f: txt = f.read()\n",
    "xb,yb = learn_c.data.one_item(txt)"
   ]
  },
  {
   "cell_type": "code",
   "execution_count": 25,
   "metadata": {},
   "outputs": [
    {
     "data": {
      "text/plain": [
       "torch.Size([1, 15])"
      ]
     },
     "execution_count": 25,
     "metadata": {},
     "output_type": "execute_result"
    }
   ],
   "source": [
    "xb.size()"
   ]
  },
  {
   "cell_type": "code",
   "execution_count": 20,
   "metadata": {},
   "outputs": [],
   "source": [
    "o = encoder(xb)"
   ]
  },
  {
   "cell_type": "code",
   "execution_count": 24,
   "metadata": {},
   "outputs": [
    {
     "data": {
      "text/plain": [
       "(2, torch.Size([1, 15, 400]), torch.Size([1, 400]))"
      ]
     },
     "execution_count": 24,
     "metadata": {},
     "output_type": "execute_result"
    }
   ],
   "source": [
    "len(o), o[0][-1].size(), o[0][-1][:,-1].size()"
   ]
  },
  {
   "cell_type": "code",
   "execution_count": 26,
   "metadata": {},
   "outputs": [],
   "source": [
    "warnings.filterwarnings('ignore')"
   ]
  },
  {
   "cell_type": "code",
   "execution_count": 27,
   "metadata": {},
   "outputs": [
    {
     "data": {
      "text/html": [
       "\n",
       "    <div>\n",
       "        <style>\n",
       "            /* Turns off some styling */\n",
       "            progress {\n",
       "                /* gets rid of default border in Firefox and Opera. */\n",
       "                border: none;\n",
       "                /* Needs to be in here for Safari polyfill so background images work as expected. */\n",
       "                background-size: auto;\n",
       "            }\n",
       "            .progress-bar-interrupted, .progress-bar-interrupted::-webkit-progress-bar {\n",
       "                background: #F44336;\n",
       "            }\n",
       "        </style>\n",
       "      <progress value='9776' class='' max='9776', style='width:300px; height:20px; vertical-align: middle;'></progress>\n",
       "      100.00% [9776/9776 19:15<00:00]\n",
       "    </div>\n",
       "    "
      ],
      "text/plain": [
       "<IPython.core.display.HTML object>"
      ]
     },
     "metadata": {},
     "output_type": "display_data"
    }
   ],
   "source": [
    "embedding = {}\n",
    "with torch.no_grad():\n",
    "    for fn in progress_bar(fns):\n",
    "        with open(fn, 'r') as f: txt = f.read()\n",
    "        xb,yb = learn_c.data.one_item(txt)\n",
    "        embedding[os.path.basename(fn)] = encoder(xb)[0][-1][:,-1].view(400,1,1)        "
   ]
  },
  {
   "cell_type": "code",
   "execution_count": 28,
   "metadata": {},
   "outputs": [
    {
     "data": {
      "text/plain": [
       "9776"
      ]
     },
     "execution_count": 28,
     "metadata": {},
     "output_type": "execute_result"
    }
   ],
   "source": [
    "len(embedding)"
   ]
  },
  {
   "cell_type": "code",
   "execution_count": 29,
   "metadata": {},
   "outputs": [],
   "source": [
    "torch.save(embedding, 'embedding_wk.pkl')"
   ]
  },
  {
   "cell_type": "code",
   "execution_count": 3,
   "metadata": {},
   "outputs": [],
   "source": [
    "embedding = torch.load('embedding_wk.pkl')"
   ]
  },
  {
   "cell_type": "code",
   "execution_count": 4,
   "metadata": {},
   "outputs": [],
   "source": [
    "for k in embedding:\n",
    "    embedding[k] = embedding[k].cpu()"
   ]
  },
  {
   "cell_type": "code",
   "execution_count": 5,
   "metadata": {},
   "outputs": [],
   "source": [
    "torch.save(embedding, 'embedding_wk.pkl')"
   ]
  },
  {
   "cell_type": "code",
   "execution_count": 10,
   "metadata": {},
   "outputs": [],
   "source": [
    "a = list(Path('sample/txt/train/').glob('Cape_Glossy_Starling*'))[:3]\n",
    "b = list(Path('sample/txt/train/').glob('Evening_Grosbeak*'))[:3]\n",
    "c = list(Path('sample/txt/train/').glob('Orchard_Oriole*'))[:3]"
   ]
  },
  {
   "cell_type": "code",
   "execution_count": 7,
   "metadata": {},
   "outputs": [],
   "source": [
    "def print_correlation(vs):\n",
    "    for i in range(len(vs)):\n",
    "        for j in range(i+1):\n",
    "            print(nn.functional.cosine_similarity(embedding[vs[i].name], embedding[vs[j].name], dim=0).item(), end=',')\n",
    "        print()"
   ]
  },
  {
   "cell_type": "code",
   "execution_count": 12,
   "metadata": {},
   "outputs": [
    {
     "name": "stdout",
     "output_type": "stream",
     "text": [
      "1.0,\n",
      "0.9999120831489563,0.9999999403953552,\n",
      "0.9996751546859741,0.9995993971824646,1.0000001192092896,\n"
     ]
    }
   ],
   "source": [
    "print_correlation(a)"
   ]
  },
  {
   "cell_type": "code",
   "execution_count": 14,
   "metadata": {},
   "outputs": [
    {
     "name": "stdout",
     "output_type": "stream",
     "text": [
      "1.0,\n",
      "0.9996569752693176,0.9999998211860657,\n",
      "0.9996308088302612,0.9995120167732239,1.0,\n"
     ]
    }
   ],
   "source": [
    "print_correlation(list(zip(a,b,c))[0])"
   ]
  },
  {
   "cell_type": "code",
   "execution_count": null,
   "metadata": {},
   "outputs": [],
   "source": []
  }
 ],
 "metadata": {
  "kernelspec": {
   "display_name": "Python 3",
   "language": "python",
   "name": "python3"
  },
  "language_info": {
   "codemirror_mode": {
    "name": "ipython",
    "version": 3
   },
   "file_extension": ".py",
   "mimetype": "text/x-python",
   "name": "python",
   "nbconvert_exporter": "python",
   "pygments_lexer": "ipython3",
   "version": "3.6.7"
  }
 },
 "nbformat": 4,
 "nbformat_minor": 2
}
