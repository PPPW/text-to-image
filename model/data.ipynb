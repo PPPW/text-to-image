{
 "cells": [
  {
   "cell_type": "code",
   "execution_count": 1,
   "metadata": {},
   "outputs": [],
   "source": [
    "from PIL import Image\n",
    "import io\n",
    "import numpy as np\n",
    "import h5py\n",
    "from tqdm import trange"
   ]
  },
  {
   "cell_type": "code",
   "execution_count": 3,
   "metadata": {},
   "outputs": [],
   "source": [
    "dataset = h5py.File('raw/birds.hdf5', mode='r')"
   ]
  },
  {
   "cell_type": "code",
   "execution_count": 4,
   "metadata": {},
   "outputs": [
    {
     "data": {
      "text/plain": [
       "13035"
      ]
     },
     "execution_count": 4,
     "metadata": {},
     "output_type": "execute_result"
    }
   ],
   "source": [
    "dataset_type = 'valid'\n",
    "dataset_keys = [str(k) for k in dataset[dataset_type].keys()]\n",
    "len(dataset_keys)"
   ]
  },
  {
   "cell_type": "code",
   "execution_count": 6,
   "metadata": {},
   "outputs": [
    {
     "name": "stderr",
     "output_type": "stream",
     "text": [
      "100%|███████████████████████████████████████████████████████████████████████████| 13035/13035 [01:38<00:00, 132.15it/s]\n"
     ]
    }
   ],
   "source": [
    "for i in trange(len(dataset_keys)):\n",
    "    if i < 9776: folder = 'train'\n",
    "    elif i < 11732: folder = 'valid'\n",
    "    else: folder = 'test'\n",
    "    k = dataset_keys[i]\n",
    "    example = dataset[dataset_type][k]\n",
    "    Image.open(io.BytesIO(bytes(np.array(example['img'])))).resize((64, 64)).save(f'data/images/{folder}/{k}.jpg')    \n",
    "    with open(f'data/txt/{folder}/{k}.txt','w') as f:\n",
    "        try:\n",
    "            f.write(str(np.array(example['txt']).astype(str)).replace('��', ' '))\n",
    "        except Exception as e:\n",
    "            print(f'{k}')#, str(np.array(example['txt']).astype(str)))\n",
    "            #print(e)"
   ]
  },
  {
   "cell_type": "code",
   "execution_count": null,
   "metadata": {},
   "outputs": [],
   "source": []
  }
 ],
 "metadata": {
  "kernelspec": {
   "display_name": "Python 3",
   "language": "python",
   "name": "python3"
  },
  "language_info": {
   "codemirror_mode": {
    "name": "ipython",
    "version": 3
   },
   "file_extension": ".py",
   "mimetype": "text/x-python",
   "name": "python",
   "nbconvert_exporter": "python",
   "pygments_lexer": "ipython3",
   "version": "3.6.7"
  }
 },
 "nbformat": 4,
 "nbformat_minor": 2
}
